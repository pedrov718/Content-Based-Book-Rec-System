{
  "cells": [
    {
      "cell_type": "markdown",
      "metadata": {
        "id": "view-in-github",
        "colab_type": "text"
      },
      "source": [
        "<a href=\"https://colab.research.google.com/github/pedrov718/Content-Based-Book-Rec-System/blob/main/book_reccomendations.ipynb\" target=\"_parent\"><img src=\"https://colab.research.google.com/assets/colab-badge.svg\" alt=\"Open In Colab\"/></a>"
      ]
    },
    {
      "cell_type": "code",
      "execution_count": 192,
      "metadata": {
        "colab": {
          "base_uri": "https://localhost:8080/"
        },
        "id": "ZlGgnvfj79R8",
        "outputId": "d971a47e-404b-4975-81bd-bd21f423e7f7"
      },
      "outputs": [
        {
          "output_type": "stream",
          "name": "stdout",
          "text": [
            "\u001b[38;5;2m✔ Download and installation successful\u001b[0m\n",
            "You can now load the package via spacy.load('en_core_web_lg')\n"
          ]
        },
        {
          "output_type": "stream",
          "name": "stderr",
          "text": [
            "[nltk_data] Downloading package stopwords to /root/nltk_data...\n",
            "[nltk_data]   Package stopwords is already up-to-date!\n",
            "[nltk_data] Downloading package wordnet to /root/nltk_data...\n",
            "[nltk_data]   Package wordnet is already up-to-date!\n",
            "[nltk_data] Downloading package omw-1.4 to /root/nltk_data...\n",
            "[nltk_data]   Package omw-1.4 is already up-to-date!\n"
          ]
        }
      ],
      "source": [
        "import pandas as pd\n",
        "import spacy.cli\n",
        "spacy.cli.download(\"en_core_web_lg\")\n",
        "\n",
        "import re\n",
        "import string\n",
        "import nltk\n",
        "import numpy as np\n",
        "\n",
        "from nltk.stem import PorterStemmer\n",
        "from nltk.stem.wordnet import WordNetLemmatizer\n",
        "nltk.download('stopwords')\n",
        "nltk.download('wordnet')\n",
        "nltk.download('omw-1.4')\n",
        "\n",
        "from google.colab import data_table\n",
        "data_table.enable_dataframe_formatter()"
      ]
    },
    {
      "cell_type": "code",
      "execution_count": 4,
      "metadata": {
        "id": "5ahHQOMF79R-"
      },
      "outputs": [],
      "source": [
        "df  = pd.read_csv('/content/drive/MyDrive/Book Rec/books_with_blurbs.csv')"
      ]
    },
    {
      "cell_type": "code",
      "execution_count": 5,
      "metadata": {
        "colab": {
          "base_uri": "https://localhost:8080/",
          "height": 206
        },
        "id": "KDGvHv__79R-",
        "outputId": "423a79f5-a768-42d4-8578-e759e4db5422"
      },
      "outputs": [
        {
          "output_type": "execute_result",
          "data": {
            "text/plain": [
              "         ISBN                                              Title  \\\n",
              "0  0060973129                               Decision in Normandy   \n",
              "1  0374157065  Flu: The Story of the Great Influenza Pandemic...   \n",
              "2  0399135782                             The Kitchen God's Wife   \n",
              "3  0425176428  What If?: The World's Foremost Military Histor...   \n",
              "4  1881320189                      Goodbye to the Buttermilk Sky   \n",
              "\n",
              "             Author  Year                 Publisher  \\\n",
              "0      Carlo D'Este  1991           HarperPerennial   \n",
              "1  Gina Bari Kolata  1999      Farrar Straus Giroux   \n",
              "2           Amy Tan  1991          Putnam Pub Group   \n",
              "3     Robert Cowley  2000  Berkley Publishing Group   \n",
              "4      Julia Oliver  1994            River City Pub   \n",
              "\n",
              "                                               Blurb  \n",
              "0  Here, for the first time in paperback, is an o...  \n",
              "1  The fascinating, true story of the world's dea...  \n",
              "2  Winnie and Helen have kept each others worst s...  \n",
              "3  Historians and inquisitive laymen alike love t...  \n",
              "4  This highly praised first novel by fiction wri...  "
            ],
            "text/html": [
              "\n",
              "  <div id=\"df-fcef514b-acbe-4278-bab2-f2ef5930772c\">\n",
              "    <div class=\"colab-df-container\">\n",
              "      <div>\n",
              "<style scoped>\n",
              "    .dataframe tbody tr th:only-of-type {\n",
              "        vertical-align: middle;\n",
              "    }\n",
              "\n",
              "    .dataframe tbody tr th {\n",
              "        vertical-align: top;\n",
              "    }\n",
              "\n",
              "    .dataframe thead th {\n",
              "        text-align: right;\n",
              "    }\n",
              "</style>\n",
              "<table border=\"1\" class=\"dataframe\">\n",
              "  <thead>\n",
              "    <tr style=\"text-align: right;\">\n",
              "      <th></th>\n",
              "      <th>ISBN</th>\n",
              "      <th>Title</th>\n",
              "      <th>Author</th>\n",
              "      <th>Year</th>\n",
              "      <th>Publisher</th>\n",
              "      <th>Blurb</th>\n",
              "    </tr>\n",
              "  </thead>\n",
              "  <tbody>\n",
              "    <tr>\n",
              "      <th>0</th>\n",
              "      <td>0060973129</td>\n",
              "      <td>Decision in Normandy</td>\n",
              "      <td>Carlo D'Este</td>\n",
              "      <td>1991</td>\n",
              "      <td>HarperPerennial</td>\n",
              "      <td>Here, for the first time in paperback, is an o...</td>\n",
              "    </tr>\n",
              "    <tr>\n",
              "      <th>1</th>\n",
              "      <td>0374157065</td>\n",
              "      <td>Flu: The Story of the Great Influenza Pandemic...</td>\n",
              "      <td>Gina Bari Kolata</td>\n",
              "      <td>1999</td>\n",
              "      <td>Farrar Straus Giroux</td>\n",
              "      <td>The fascinating, true story of the world's dea...</td>\n",
              "    </tr>\n",
              "    <tr>\n",
              "      <th>2</th>\n",
              "      <td>0399135782</td>\n",
              "      <td>The Kitchen God's Wife</td>\n",
              "      <td>Amy Tan</td>\n",
              "      <td>1991</td>\n",
              "      <td>Putnam Pub Group</td>\n",
              "      <td>Winnie and Helen have kept each others worst s...</td>\n",
              "    </tr>\n",
              "    <tr>\n",
              "      <th>3</th>\n",
              "      <td>0425176428</td>\n",
              "      <td>What If?: The World's Foremost Military Histor...</td>\n",
              "      <td>Robert Cowley</td>\n",
              "      <td>2000</td>\n",
              "      <td>Berkley Publishing Group</td>\n",
              "      <td>Historians and inquisitive laymen alike love t...</td>\n",
              "    </tr>\n",
              "    <tr>\n",
              "      <th>4</th>\n",
              "      <td>1881320189</td>\n",
              "      <td>Goodbye to the Buttermilk Sky</td>\n",
              "      <td>Julia Oliver</td>\n",
              "      <td>1994</td>\n",
              "      <td>River City Pub</td>\n",
              "      <td>This highly praised first novel by fiction wri...</td>\n",
              "    </tr>\n",
              "  </tbody>\n",
              "</table>\n",
              "</div>\n",
              "      <button class=\"colab-df-convert\" onclick=\"convertToInteractive('df-fcef514b-acbe-4278-bab2-f2ef5930772c')\"\n",
              "              title=\"Convert this dataframe to an interactive table.\"\n",
              "              style=\"display:none;\">\n",
              "        \n",
              "  <svg xmlns=\"http://www.w3.org/2000/svg\" height=\"24px\"viewBox=\"0 0 24 24\"\n",
              "       width=\"24px\">\n",
              "    <path d=\"M0 0h24v24H0V0z\" fill=\"none\"/>\n",
              "    <path d=\"M18.56 5.44l.94 2.06.94-2.06 2.06-.94-2.06-.94-.94-2.06-.94 2.06-2.06.94zm-11 1L8.5 8.5l.94-2.06 2.06-.94-2.06-.94L8.5 2.5l-.94 2.06-2.06.94zm10 10l.94 2.06.94-2.06 2.06-.94-2.06-.94-.94-2.06-.94 2.06-2.06.94z\"/><path d=\"M17.41 7.96l-1.37-1.37c-.4-.4-.92-.59-1.43-.59-.52 0-1.04.2-1.43.59L10.3 9.45l-7.72 7.72c-.78.78-.78 2.05 0 2.83L4 21.41c.39.39.9.59 1.41.59.51 0 1.02-.2 1.41-.59l7.78-7.78 2.81-2.81c.8-.78.8-2.07 0-2.86zM5.41 20L4 18.59l7.72-7.72 1.47 1.35L5.41 20z\"/>\n",
              "  </svg>\n",
              "      </button>\n",
              "      \n",
              "  <style>\n",
              "    .colab-df-container {\n",
              "      display:flex;\n",
              "      flex-wrap:wrap;\n",
              "      gap: 12px;\n",
              "    }\n",
              "\n",
              "    .colab-df-convert {\n",
              "      background-color: #E8F0FE;\n",
              "      border: none;\n",
              "      border-radius: 50%;\n",
              "      cursor: pointer;\n",
              "      display: none;\n",
              "      fill: #1967D2;\n",
              "      height: 32px;\n",
              "      padding: 0 0 0 0;\n",
              "      width: 32px;\n",
              "    }\n",
              "\n",
              "    .colab-df-convert:hover {\n",
              "      background-color: #E2EBFA;\n",
              "      box-shadow: 0px 1px 2px rgba(60, 64, 67, 0.3), 0px 1px 3px 1px rgba(60, 64, 67, 0.15);\n",
              "      fill: #174EA6;\n",
              "    }\n",
              "\n",
              "    [theme=dark] .colab-df-convert {\n",
              "      background-color: #3B4455;\n",
              "      fill: #D2E3FC;\n",
              "    }\n",
              "\n",
              "    [theme=dark] .colab-df-convert:hover {\n",
              "      background-color: #434B5C;\n",
              "      box-shadow: 0px 1px 3px 1px rgba(0, 0, 0, 0.15);\n",
              "      filter: drop-shadow(0px 1px 2px rgba(0, 0, 0, 0.3));\n",
              "      fill: #FFFFFF;\n",
              "    }\n",
              "  </style>\n",
              "\n",
              "      <script>\n",
              "        const buttonEl =\n",
              "          document.querySelector('#df-fcef514b-acbe-4278-bab2-f2ef5930772c button.colab-df-convert');\n",
              "        buttonEl.style.display =\n",
              "          google.colab.kernel.accessAllowed ? 'block' : 'none';\n",
              "\n",
              "        async function convertToInteractive(key) {\n",
              "          const element = document.querySelector('#df-fcef514b-acbe-4278-bab2-f2ef5930772c');\n",
              "          const dataTable =\n",
              "            await google.colab.kernel.invokeFunction('convertToInteractive',\n",
              "                                                     [key], {});\n",
              "          if (!dataTable) return;\n",
              "\n",
              "          const docLinkHtml = 'Like what you see? Visit the ' +\n",
              "            '<a target=\"_blank\" href=https://colab.research.google.com/notebooks/data_table.ipynb>data table notebook</a>'\n",
              "            + ' to learn more about interactive tables.';\n",
              "          element.innerHTML = '';\n",
              "          dataTable['output_type'] = 'display_data';\n",
              "          await google.colab.output.renderOutput(dataTable, element);\n",
              "          const docLink = document.createElement('div');\n",
              "          docLink.innerHTML = docLinkHtml;\n",
              "          element.appendChild(docLink);\n",
              "        }\n",
              "      </script>\n",
              "    </div>\n",
              "  </div>\n",
              "  "
            ]
          },
          "metadata": {},
          "execution_count": 5
        }
      ],
      "source": [
        "df.head()"
      ]
    },
    {
      "cell_type": "code",
      "execution_count": 6,
      "metadata": {
        "colab": {
          "base_uri": "https://localhost:8080/"
        },
        "id": "KLUla0u079R-",
        "outputId": "8738f156-ab95-4f0e-bb4f-35ebb4a3f273"
      },
      "outputs": [
        {
          "output_type": "execute_result",
          "data": {
            "text/plain": [
              "10    Newly graduated from college, Sam Altman is gr...\n",
              "11    Three passengers are dead. Fifty-six are injur...\n",
              "12    In an Arizona desert, a man wanders in a daze,...\n",
              "13    Dr. Ransom is abducted by a megalomaniacal phy...\n",
              "14    A novel of startling scope and ambition, , dep...\n",
              "Name: Blurb, dtype: object"
            ]
          },
          "metadata": {},
          "execution_count": 6
        }
      ],
      "source": [
        "df['Blurb'][10:15]"
      ]
    },
    {
      "cell_type": "code",
      "execution_count": 193,
      "metadata": {
        "id": "L8O4DSRj79R-"
      },
      "outputs": [],
      "source": [
        "# Load spacy\n",
        "nlp = spacy.load('en_core_web_lg')\n",
        "\n",
        "def clean_string(text, stem=\"None\"):\n",
        "\n",
        "    final_string = \"\"\n",
        "\n",
        "    # Make lower\n",
        "    text = text.lower()\n",
        "\n",
        "    # Remove line breaks\n",
        "    text = re.sub(r'\\n', '', text)\n",
        "\n",
        "    # Remove puncuation\n",
        "    translator = str.maketrans('', '', string.punctuation)\n",
        "    text = text.translate(translator)\n",
        "\n",
        "    #Remove stop words\n",
        "    text = text.split()\n",
        "\n",
        "    #Remove numbers\n",
        "    text_filtered = [re.sub(r'\\w*\\d\\w*', '', word) for word in text]\n",
        "\n",
        "    # Stem or Lemmatize\n",
        "    if stem == 'Stem':\n",
        "        stemmer = PorterStemmer() \n",
        "        text_stemmed = [stemmer.stem(y) for y in text_filtered]\n",
        "    elif stem == 'Lem':\n",
        "        lem = WordNetLemmatizer()\n",
        "        text_stemmed = [lem.lemmatize(y) for y in text_filtered]\n",
        "    elif stem == 'Spacy':\n",
        "        text_filtered = nlp(' '.join(text_filtered))\n",
        "        text_stemmed = [y.lemma_ for y in text_filtered]\n",
        "    else:\n",
        "        text_stemmed = text_filtered\n",
        "\n",
        "    final_string = ' '.join(text_stemmed)\n",
        "\n",
        "    return final_string\n"
      ]
    },
    {
      "cell_type": "code",
      "execution_count": 194,
      "metadata": {
        "colab": {
          "base_uri": "https://localhost:8080/"
        },
        "id": "QQdeiD6j79R_",
        "outputId": "69545886-801d-4345-84e2-e5af1f804638"
      },
      "outputs": [
        {
          "output_type": "stream",
          "name": "stdout",
          "text": [
            "Cleaning train data...\n",
            "\n"
          ]
        }
      ],
      "source": [
        "print(\"Cleaning train data...\\n\")\n",
        "\n",
        "df[\"blurb_clean\"] = df['Blurb'].apply(lambda x: clean_string(x, stem='Spacy'))"
      ]
    },
    {
      "cell_type": "code",
      "execution_count": 208,
      "metadata": {
        "colab": {
          "base_uri": "https://localhost:8080/",
          "height": 596
        },
        "id": "85K4qCwD79R_",
        "outputId": "e3a7b004-906e-4c58-c732-aa4b42cb7aae"
      },
      "outputs": [
        {
          "output_type": "execute_result",
          "data": {
            "text/plain": [
              "         ISBN                                              Title  \\\n",
              "0  0060973129                               Decision in Normandy   \n",
              "1  0374157065  Flu: The Story of the Great Influenza Pandemic...   \n",
              "\n",
              "             Author  Year             Publisher  \\\n",
              "0      Carlo D'Este  1991       HarperPerennial   \n",
              "1  Gina Bari Kolata  1999  Farrar Straus Giroux   \n",
              "\n",
              "                                               Blurb  \\\n",
              "0  Here, for the first time in paperback, is an o...   \n",
              "1  The fascinating, true story of the world's dea...   \n",
              "\n",
              "                                         blurb_clean  \\\n",
              "0  here for the first time in paperback be an out...   \n",
              "1  the fascinating true story of the world deadly...   \n",
              "\n",
              "                                         Title_lower  \\\n",
              "0                               decision in normandy   \n",
              "1  flu: the story of the great influenza pandemic...   \n",
              "\n",
              "                                   blurb_clean_title  \n",
              "0  decision in normandy here for the first time i...  \n",
              "1  flu: the story of the great influenza pandemic...  "
            ],
            "text/html": [
              "\n",
              "  <div id=\"df-3ae1a041-4244-477a-b40b-d1e551b9fb78\">\n",
              "    <div class=\"colab-df-container\">\n",
              "      <div>\n",
              "<style scoped>\n",
              "    .dataframe tbody tr th:only-of-type {\n",
              "        vertical-align: middle;\n",
              "    }\n",
              "\n",
              "    .dataframe tbody tr th {\n",
              "        vertical-align: top;\n",
              "    }\n",
              "\n",
              "    .dataframe thead th {\n",
              "        text-align: right;\n",
              "    }\n",
              "</style>\n",
              "<table border=\"1\" class=\"dataframe\">\n",
              "  <thead>\n",
              "    <tr style=\"text-align: right;\">\n",
              "      <th></th>\n",
              "      <th>ISBN</th>\n",
              "      <th>Title</th>\n",
              "      <th>Author</th>\n",
              "      <th>Year</th>\n",
              "      <th>Publisher</th>\n",
              "      <th>Blurb</th>\n",
              "      <th>blurb_clean</th>\n",
              "      <th>Title_lower</th>\n",
              "      <th>blurb_clean_title</th>\n",
              "    </tr>\n",
              "  </thead>\n",
              "  <tbody>\n",
              "    <tr>\n",
              "      <th>0</th>\n",
              "      <td>0060973129</td>\n",
              "      <td>Decision in Normandy</td>\n",
              "      <td>Carlo D'Este</td>\n",
              "      <td>1991</td>\n",
              "      <td>HarperPerennial</td>\n",
              "      <td>Here, for the first time in paperback, is an o...</td>\n",
              "      <td>here for the first time in paperback be an out...</td>\n",
              "      <td>decision in normandy</td>\n",
              "      <td>decision in normandy here for the first time i...</td>\n",
              "    </tr>\n",
              "    <tr>\n",
              "      <th>1</th>\n",
              "      <td>0374157065</td>\n",
              "      <td>Flu: The Story of the Great Influenza Pandemic...</td>\n",
              "      <td>Gina Bari Kolata</td>\n",
              "      <td>1999</td>\n",
              "      <td>Farrar Straus Giroux</td>\n",
              "      <td>The fascinating, true story of the world's dea...</td>\n",
              "      <td>the fascinating true story of the world deadly...</td>\n",
              "      <td>flu: the story of the great influenza pandemic...</td>\n",
              "      <td>flu: the story of the great influenza pandemic...</td>\n",
              "    </tr>\n",
              "  </tbody>\n",
              "</table>\n",
              "</div>\n",
              "      <button class=\"colab-df-convert\" onclick=\"convertToInteractive('df-3ae1a041-4244-477a-b40b-d1e551b9fb78')\"\n",
              "              title=\"Convert this dataframe to an interactive table.\"\n",
              "              style=\"display:none;\">\n",
              "        \n",
              "  <svg xmlns=\"http://www.w3.org/2000/svg\" height=\"24px\"viewBox=\"0 0 24 24\"\n",
              "       width=\"24px\">\n",
              "    <path d=\"M0 0h24v24H0V0z\" fill=\"none\"/>\n",
              "    <path d=\"M18.56 5.44l.94 2.06.94-2.06 2.06-.94-2.06-.94-.94-2.06-.94 2.06-2.06.94zm-11 1L8.5 8.5l.94-2.06 2.06-.94-2.06-.94L8.5 2.5l-.94 2.06-2.06.94zm10 10l.94 2.06.94-2.06 2.06-.94-2.06-.94-.94-2.06-.94 2.06-2.06.94z\"/><path d=\"M17.41 7.96l-1.37-1.37c-.4-.4-.92-.59-1.43-.59-.52 0-1.04.2-1.43.59L10.3 9.45l-7.72 7.72c-.78.78-.78 2.05 0 2.83L4 21.41c.39.39.9.59 1.41.59.51 0 1.02-.2 1.41-.59l7.78-7.78 2.81-2.81c.8-.78.8-2.07 0-2.86zM5.41 20L4 18.59l7.72-7.72 1.47 1.35L5.41 20z\"/>\n",
              "  </svg>\n",
              "      </button>\n",
              "      \n",
              "  <style>\n",
              "    .colab-df-container {\n",
              "      display:flex;\n",
              "      flex-wrap:wrap;\n",
              "      gap: 12px;\n",
              "    }\n",
              "\n",
              "    .colab-df-convert {\n",
              "      background-color: #E8F0FE;\n",
              "      border: none;\n",
              "      border-radius: 50%;\n",
              "      cursor: pointer;\n",
              "      display: none;\n",
              "      fill: #1967D2;\n",
              "      height: 32px;\n",
              "      padding: 0 0 0 0;\n",
              "      width: 32px;\n",
              "    }\n",
              "\n",
              "    .colab-df-convert:hover {\n",
              "      background-color: #E2EBFA;\n",
              "      box-shadow: 0px 1px 2px rgba(60, 64, 67, 0.3), 0px 1px 3px 1px rgba(60, 64, 67, 0.15);\n",
              "      fill: #174EA6;\n",
              "    }\n",
              "\n",
              "    [theme=dark] .colab-df-convert {\n",
              "      background-color: #3B4455;\n",
              "      fill: #D2E3FC;\n",
              "    }\n",
              "\n",
              "    [theme=dark] .colab-df-convert:hover {\n",
              "      background-color: #434B5C;\n",
              "      box-shadow: 0px 1px 3px 1px rgba(0, 0, 0, 0.15);\n",
              "      filter: drop-shadow(0px 1px 2px rgba(0, 0, 0, 0.3));\n",
              "      fill: #FFFFFF;\n",
              "    }\n",
              "  </style>\n",
              "\n",
              "      <script>\n",
              "        const buttonEl =\n",
              "          document.querySelector('#df-3ae1a041-4244-477a-b40b-d1e551b9fb78 button.colab-df-convert');\n",
              "        buttonEl.style.display =\n",
              "          google.colab.kernel.accessAllowed ? 'block' : 'none';\n",
              "\n",
              "        async function convertToInteractive(key) {\n",
              "          const element = document.querySelector('#df-3ae1a041-4244-477a-b40b-d1e551b9fb78');\n",
              "          const dataTable =\n",
              "            await google.colab.kernel.invokeFunction('convertToInteractive',\n",
              "                                                     [key], {});\n",
              "          if (!dataTable) return;\n",
              "\n",
              "          const docLinkHtml = 'Like what you see? Visit the ' +\n",
              "            '<a target=\"_blank\" href=https://colab.research.google.com/notebooks/data_table.ipynb>data table notebook</a>'\n",
              "            + ' to learn more about interactive tables.';\n",
              "          element.innerHTML = '';\n",
              "          dataTable['output_type'] = 'display_data';\n",
              "          await google.colab.output.renderOutput(dataTable, element);\n",
              "          const docLink = document.createElement('div');\n",
              "          docLink.innerHTML = docLinkHtml;\n",
              "          element.appendChild(docLink);\n",
              "        }\n",
              "      </script>\n",
              "    </div>\n",
              "  </div>\n",
              "  "
            ],
            "application/vnd.google.colaboratory.module+javascript": "\n      import \"https://ssl.gstatic.com/colaboratory/data_table/a8bd4d5e58f96183/data_table.js\";\n\n      window.createDataTable({\n        data: [[{\n            'v': 0,\n            'f': \"0\",\n        },\n\"0060973129\",\n\"Decision in Normandy\",\n\"Carlo D'Este\",\n{\n            'v': 1991,\n            'f': \"1991\",\n        },\n\"HarperPerennial\",\n\"Here, for the first time in paperback, is an outstanding military history that offers a dramatic new perspective on the Allied campaign that began with the invasion of the D-Day beaches of Normandy. Nationa advertising in Military History.\",\n\"here for the first time in paperback be an outstanding military history that offer a dramatic new perspective on the ally campaign that begin with the invasion of the dday beach of normandy nationa advertising in military history\",\n\"decision in normandy\",\n\"decision in normandy here for the first time in paperback be an outstanding military history that offer a dramatic new perspective on the ally campaign that begin with the invasion of the dday beach of normandy nationa advertising in military history\"],\n [{\n            'v': 1,\n            'f': \"1\",\n        },\n\"0374157065\",\n\"Flu: The Story of the Great Influenza Pandemic of 1918 and the Search for the Virus That Caused It\",\n\"Gina Bari Kolata\",\n{\n            'v': 1999,\n            'f': \"1999\",\n        },\n\"Farrar Straus Giroux\",\n\"The fascinating, true story of the world's deadliest disease. ,In 1918, the Great Flu Epidemic felled the young and healthy virtually overnight. An estimated forty million people died as the epidemic raged. Children were left orphaned and families were devastated. As many American soldiers were killed by the 1918 flu as were killed in battle during World War I. And no area of the globe was safe. Eskimos living in remote outposts in the frozen tundra were sickened and killed by the flu in such numbers that entire villages were wiped out. ,Scientists have recently rediscovered shards of the flu virus frozen in Alaska and preserved in scraps of tissue in a government warehouse. Gina Kolata, an acclaimed reporter for \\\"The New York Times,\\\" unravels the mystery of this lethal virus with the high drama of a great adventure story. Delving into the history of the flu and previous epidemics, detailing the science and the latest understanding of this mortal disease, Kolata addresses the prospects for a great epidemic recurring, and, most important, what can be done to prevent it.\",\n\"the fascinating true story of the world deadly disease in   the great flu epidemic fell the young and healthy virtually overnight an estimate forty million people die as the epidemic rage child be leave orphaned and family be devastate as many american soldier be kill by the   flu as be kill in battle during world war I and no area of the globe be safe eskimos live in remote outpost in the frozen tundra be sicken and kill by the flu in such number that entire village be wipe out scientist have recently rediscover shard of the flu virus freeze in alaska and preserve in scrap of tissue in a government warehouse gina kolata an acclaim reporter for the new york times unravel the mystery of this lethal virus with the high drama of a great adventure story delve into the history of the flu and previous epidemic detail the science and the late understanding of this mortal disease kolata address the prospect for a great epidemic recurring and most important what can be do to prevent it\",\n\"flu: the story of the great influenza pandemic of 1918 and the search for the virus that caused it\",\n\"flu: the story of the great influenza pandemic of 1918 and the search for the virus that caused it the fascinating true story of the world deadly disease in   the great flu epidemic fell the young and healthy virtually overnight an estimate forty million people die as the epidemic rage child be leave orphaned and family be devastate as many american soldier be kill by the   flu as be kill in battle during world war I and no area of the globe be safe eskimos live in remote outpost in the frozen tundra be sicken and kill by the flu in such number that entire village be wipe out scientist have recently rediscover shard of the flu virus freeze in alaska and preserve in scrap of tissue in a government warehouse gina kolata an acclaim reporter for the new york times unravel the mystery of this lethal virus with the high drama of a great adventure story delve into the history of the flu and previous epidemic detail the science and the late understanding of this mortal disease kolata address the prospect for a great epidemic recurring and most important what can be do to prevent it\"]],\n        columns: [[\"number\", \"index\"], [\"string\", \"ISBN\"], [\"string\", \"Title\"], [\"string\", \"Author\"], [\"number\", \"Year\"], [\"string\", \"Publisher\"], [\"string\", \"Blurb\"], [\"string\", \"blurb_clean\"], [\"string\", \"Title_lower\"], [\"string\", \"blurb_clean_title\"]],\n        columnOptions: [{\"width\": \"1px\", \"className\": \"index_column\"}],\n        rowsPerPage: 25,\n        helpUrl: \"https://colab.research.google.com/notebooks/data_table.ipynb\",\n        suppressOutputScrolling: true,\n        minimumWidth: undefined,\n      });\n    "
          },
          "metadata": {},
          "execution_count": 208
        }
      ],
      "source": [
        "df.head(2)"
      ]
    },
    {
      "cell_type": "code",
      "execution_count": 196,
      "metadata": {
        "id": "-bh3dupB79R_"
      },
      "outputs": [],
      "source": [
        "df['Title_lower'] = df['Title'].apply(lambda x: x.lower())"
      ]
    },
    {
      "cell_type": "code",
      "execution_count": 197,
      "metadata": {
        "id": "IEbwj1nx79SA"
      },
      "outputs": [],
      "source": [
        "df['blurb_clean_title'] =  df['Title_lower'] +  ' ' + df['blurb_clean']"
      ]
    },
    {
      "cell_type": "code",
      "execution_count": 198,
      "metadata": {
        "colab": {
          "base_uri": "https://localhost:8080/",
          "height": 53
        },
        "id": "7RbrbPNn79SA",
        "outputId": "9d2cc2b8-6b77-44e7-b75a-a93356c07022"
      },
      "outputs": [
        {
          "output_type": "execute_result",
          "data": {
            "text/plain": [
              "'wild animus newly graduate from college sam altman be grip by an inexplicable urge to lose himself in the wilderness and team up with an enigmatic young woman who seem bent on help he realize his dream'"
            ],
            "application/vnd.google.colaboratory.intrinsic+json": {
              "type": "string"
            }
          },
          "metadata": {},
          "execution_count": 198
        }
      ],
      "source": [
        "df['blurb_clean_title'][10]"
      ]
    },
    {
      "cell_type": "code",
      "source": [
        "df.to_csv('/content/drive/MyDrive/Book Rec/books_with_blurbs_clean.csv')"
      ],
      "metadata": {
        "id": "PFA3HeEFf4d_"
      },
      "execution_count": 230,
      "outputs": []
    },
    {
      "cell_type": "code",
      "source": [
        "df = pd.read_csv('/content/drive/MyDrive/Book Rec/books_with_blurbs_clean.csv')"
      ],
      "metadata": {
        "id": "MB79hYu7gF0Q"
      },
      "execution_count": 231,
      "outputs": []
    },
    {
      "cell_type": "markdown",
      "source": [
        "#### Now that we have the data cleaned and saved to Drive we can use tfidf to convert our text data to numerical"
      ],
      "metadata": {
        "id": "EhN8U2qXgb_j"
      }
    },
    {
      "cell_type": "code",
      "execution_count": 232,
      "metadata": {
        "id": "Kxfk7UzP79SA"
      },
      "outputs": [],
      "source": [
        "from sklearn.feature_extraction.text import TfidfVectorizer\n",
        "from sklearn.metrics.pairwise import cosine_similarity\n",
        "from sklearn.feature_extraction.text import CountVectorizer"
      ]
    },
    {
      "cell_type": "code",
      "execution_count": 233,
      "metadata": {
        "id": "ApMQiprV79SA"
      },
      "outputs": [],
      "source": [
        "vectorizer = TfidfVectorizer()\n",
        "X = vectorizer.fit_transform(df['blurb_clean_title'])"
      ]
    },
    {
      "cell_type": "code",
      "execution_count": 235,
      "metadata": {
        "id": "Q_LvF_jz79SB"
      },
      "outputs": [],
      "source": [
        "def most_similiar_book():\n",
        "  sentence = [input(\"Write a line from your favorite book? \")]\n",
        "  y = vectorizer.transform(sentence)\n",
        "  cosine_sim = cosine_similarity(X,y)\n",
        "  max_index = np.argmax(cosine_sim)\n",
        "  return print('\\n', 'Title:', '\\n', df['Title'].iloc[max_index], '\\n\\n', 'Description:', '\\n', df['Blurb'].iloc[max_index])"
      ]
    },
    {
      "cell_type": "code",
      "source": [
        "most_similiar_book()"
      ],
      "metadata": {
        "colab": {
          "base_uri": "https://localhost:8080/"
        },
        "id": "xfrQy7BgOcpb",
        "outputId": "12b3ba34-7394-4d06-b923-622a48d3078d"
      },
      "execution_count": 236,
      "outputs": [
        {
          "output_type": "stream",
          "name": "stdout",
          "text": [
            "Write a line from your favorite book? pizzq\n",
            "\n",
            " Title: \n",
            " Decision in Normandy \n",
            "\n",
            " Description: \n",
            " Here, for the first time in paperback, is an outstanding military history that offers a dramatic new perspective on the Allied campaign that began with the invasion of the D-Day beaches of Normandy. Nationa advertising in Military History.\n"
          ]
        }
      ]
    },
    {
      "cell_type": "markdown",
      "source": [
        "#### TOP N Number of book reccomendations"
      ],
      "metadata": {
        "id": "uVnhosOEKDn-"
      }
    },
    {
      "cell_type": "code",
      "source": [
        "def top_n_similiar_books():\n",
        "  \n",
        "  n = int(input(\"How many books would you like reccomended? Please input a number. \"))\n",
        "\n",
        "  sentence = [input(\"Write the title or line from your favorite book? \")]\n",
        "  \n",
        "  y = vectorizer.transform(sentence)\n",
        "  \n",
        "  cosine_sim = cosine_similarity(X,y)\n",
        "\n",
        "  # Get the pairwsie similarity scores\n",
        "  sim_scores = list(enumerate(cosine_sim))\n",
        "  # Sort the books based on the similarity scores\n",
        "  sim_scores = sorted(sim_scores, key=lambda x: x[1], reverse=True)\n",
        "  # Get the scores for n most similar books\n",
        "  sim_scores = sim_scores[0:n]\n",
        "  \n",
        "  titles = []\n",
        "  author = []\n",
        "  desc = []\n",
        "\n",
        "  for pair in sim_scores:\n",
        "    indx, score = pair\n",
        "    titles.append(df[\"Title\"][indx])\n",
        "    author.append(df[\"Author\"][indx])\n",
        "    desc.append(df[\"Blurb\"][indx])\n",
        "  \n",
        "  reccs = pd.DataFrame(list(zip(titles, author, desc)), columns =['titles', 'author', 'blurbs'])\n",
        "  \n",
        "  return reccs"
      ],
      "metadata": {
        "id": "0hJaJzKPKBQY"
      },
      "execution_count": 237,
      "outputs": []
    },
    {
      "cell_type": "code",
      "source": [
        "top_n_similiar_books()"
      ],
      "metadata": {
        "colab": {
          "base_uri": "https://localhost:8080/",
          "height": 327
        },
        "id": "cJPsESdULQxF",
        "outputId": "9a9ceba8-dbae-4221-a97d-0fa91fa2a904"
      },
      "execution_count": 238,
      "outputs": [
        {
          "name": "stdout",
          "output_type": "stream",
          "text": [
            "How many books would you like reccomended? Please input a number. 4\n",
            "Write the title or line from your favorite book? pizza\n"
          ]
        },
        {
          "output_type": "execute_result",
          "data": {
            "text/plain": [
              "                                              titles            author  \\\n",
              "0  The Pizza Book: Everything There Is To Know Ab...    EVELYNE SLOMON   \n",
              "1  Who Put the Pizza in the Vcr: Laughing Your Wa...     Martha Bolton   \n",
              "2                   Snow Crash (Bantam Spectra Book)   NEAL STEPHENSON   \n",
              "3                The Little Red Hen: (Makes a Pizza)  Philemon Sturges   \n",
              "\n",
              "                                              blurbs  \n",
              "0  This young chef makes pizza making easy and fu...  \n",
              "1  In Who Put the Pizza in the VCR? Martha descri...  \n",
              "2  In reality, Hiro Protagonist delivers pizza fo...  \n",
              "3  A spirited, quirky, and thoroughly modern rema...  "
            ],
            "text/html": [
              "\n",
              "  <div id=\"df-407261ef-e264-4d02-a39c-fc8219dadbff\">\n",
              "    <div class=\"colab-df-container\">\n",
              "      <div>\n",
              "<style scoped>\n",
              "    .dataframe tbody tr th:only-of-type {\n",
              "        vertical-align: middle;\n",
              "    }\n",
              "\n",
              "    .dataframe tbody tr th {\n",
              "        vertical-align: top;\n",
              "    }\n",
              "\n",
              "    .dataframe thead th {\n",
              "        text-align: right;\n",
              "    }\n",
              "</style>\n",
              "<table border=\"1\" class=\"dataframe\">\n",
              "  <thead>\n",
              "    <tr style=\"text-align: right;\">\n",
              "      <th></th>\n",
              "      <th>titles</th>\n",
              "      <th>author</th>\n",
              "      <th>blurbs</th>\n",
              "    </tr>\n",
              "  </thead>\n",
              "  <tbody>\n",
              "    <tr>\n",
              "      <th>0</th>\n",
              "      <td>The Pizza Book: Everything There Is To Know Ab...</td>\n",
              "      <td>EVELYNE SLOMON</td>\n",
              "      <td>This young chef makes pizza making easy and fu...</td>\n",
              "    </tr>\n",
              "    <tr>\n",
              "      <th>1</th>\n",
              "      <td>Who Put the Pizza in the Vcr: Laughing Your Wa...</td>\n",
              "      <td>Martha Bolton</td>\n",
              "      <td>In Who Put the Pizza in the VCR? Martha descri...</td>\n",
              "    </tr>\n",
              "    <tr>\n",
              "      <th>2</th>\n",
              "      <td>Snow Crash (Bantam Spectra Book)</td>\n",
              "      <td>NEAL STEPHENSON</td>\n",
              "      <td>In reality, Hiro Protagonist delivers pizza fo...</td>\n",
              "    </tr>\n",
              "    <tr>\n",
              "      <th>3</th>\n",
              "      <td>The Little Red Hen: (Makes a Pizza)</td>\n",
              "      <td>Philemon Sturges</td>\n",
              "      <td>A spirited, quirky, and thoroughly modern rema...</td>\n",
              "    </tr>\n",
              "  </tbody>\n",
              "</table>\n",
              "</div>\n",
              "      <button class=\"colab-df-convert\" onclick=\"convertToInteractive('df-407261ef-e264-4d02-a39c-fc8219dadbff')\"\n",
              "              title=\"Convert this dataframe to an interactive table.\"\n",
              "              style=\"display:none;\">\n",
              "        \n",
              "  <svg xmlns=\"http://www.w3.org/2000/svg\" height=\"24px\"viewBox=\"0 0 24 24\"\n",
              "       width=\"24px\">\n",
              "    <path d=\"M0 0h24v24H0V0z\" fill=\"none\"/>\n",
              "    <path d=\"M18.56 5.44l.94 2.06.94-2.06 2.06-.94-2.06-.94-.94-2.06-.94 2.06-2.06.94zm-11 1L8.5 8.5l.94-2.06 2.06-.94-2.06-.94L8.5 2.5l-.94 2.06-2.06.94zm10 10l.94 2.06.94-2.06 2.06-.94-2.06-.94-.94-2.06-.94 2.06-2.06.94z\"/><path d=\"M17.41 7.96l-1.37-1.37c-.4-.4-.92-.59-1.43-.59-.52 0-1.04.2-1.43.59L10.3 9.45l-7.72 7.72c-.78.78-.78 2.05 0 2.83L4 21.41c.39.39.9.59 1.41.59.51 0 1.02-.2 1.41-.59l7.78-7.78 2.81-2.81c.8-.78.8-2.07 0-2.86zM5.41 20L4 18.59l7.72-7.72 1.47 1.35L5.41 20z\"/>\n",
              "  </svg>\n",
              "      </button>\n",
              "      \n",
              "  <style>\n",
              "    .colab-df-container {\n",
              "      display:flex;\n",
              "      flex-wrap:wrap;\n",
              "      gap: 12px;\n",
              "    }\n",
              "\n",
              "    .colab-df-convert {\n",
              "      background-color: #E8F0FE;\n",
              "      border: none;\n",
              "      border-radius: 50%;\n",
              "      cursor: pointer;\n",
              "      display: none;\n",
              "      fill: #1967D2;\n",
              "      height: 32px;\n",
              "      padding: 0 0 0 0;\n",
              "      width: 32px;\n",
              "    }\n",
              "\n",
              "    .colab-df-convert:hover {\n",
              "      background-color: #E2EBFA;\n",
              "      box-shadow: 0px 1px 2px rgba(60, 64, 67, 0.3), 0px 1px 3px 1px rgba(60, 64, 67, 0.15);\n",
              "      fill: #174EA6;\n",
              "    }\n",
              "\n",
              "    [theme=dark] .colab-df-convert {\n",
              "      background-color: #3B4455;\n",
              "      fill: #D2E3FC;\n",
              "    }\n",
              "\n",
              "    [theme=dark] .colab-df-convert:hover {\n",
              "      background-color: #434B5C;\n",
              "      box-shadow: 0px 1px 3px 1px rgba(0, 0, 0, 0.15);\n",
              "      filter: drop-shadow(0px 1px 2px rgba(0, 0, 0, 0.3));\n",
              "      fill: #FFFFFF;\n",
              "    }\n",
              "  </style>\n",
              "\n",
              "      <script>\n",
              "        const buttonEl =\n",
              "          document.querySelector('#df-407261ef-e264-4d02-a39c-fc8219dadbff button.colab-df-convert');\n",
              "        buttonEl.style.display =\n",
              "          google.colab.kernel.accessAllowed ? 'block' : 'none';\n",
              "\n",
              "        async function convertToInteractive(key) {\n",
              "          const element = document.querySelector('#df-407261ef-e264-4d02-a39c-fc8219dadbff');\n",
              "          const dataTable =\n",
              "            await google.colab.kernel.invokeFunction('convertToInteractive',\n",
              "                                                     [key], {});\n",
              "          if (!dataTable) return;\n",
              "\n",
              "          const docLinkHtml = 'Like what you see? Visit the ' +\n",
              "            '<a target=\"_blank\" href=https://colab.research.google.com/notebooks/data_table.ipynb>data table notebook</a>'\n",
              "            + ' to learn more about interactive tables.';\n",
              "          element.innerHTML = '';\n",
              "          dataTable['output_type'] = 'display_data';\n",
              "          await google.colab.output.renderOutput(dataTable, element);\n",
              "          const docLink = document.createElement('div');\n",
              "          docLink.innerHTML = docLinkHtml;\n",
              "          element.appendChild(docLink);\n",
              "        }\n",
              "      </script>\n",
              "    </div>\n",
              "  </div>\n",
              "  "
            ],
            "application/vnd.google.colaboratory.module+javascript": "\n      import \"https://ssl.gstatic.com/colaboratory/data_table/a8bd4d5e58f96183/data_table.js\";\n\n      window.createDataTable({\n        data: [[{\n            'v': 0,\n            'f': \"0\",\n        },\n\"The Pizza Book: Everything There Is To Know About the World's Greatest Pie\",\n\"EVELYNE SLOMON\",\n\"This young chef makes pizza making easy and fun. More than 200 easy-to-follow recipes. Supplementing the recipes is advice about ingredients, equipment and technique.\"],\n [{\n            'v': 1,\n            'f': \"1\",\n        },\n\"Who Put the Pizza in the Vcr: Laughing Your Way Through Life's Little Emergencies\",\n\"Martha Bolton\",\n\"In Who Put the Pizza in the VCR? Martha describe trying situations that every parent faces. For instance, did you ever wonder when it was the right time to change the baby's diaper? Just ask Martha. From the somewhat facetious to the downright hilarious, she provides a humor break that every grownup will enjoy.\"],\n [{\n            'v': 2,\n            'f': \"2\",\n        },\n\"Snow Crash (Bantam Spectra Book)\",\n\"NEAL STEPHENSON\",\n\"In reality, Hiro Protagonist delivers pizza for Uncle Enzo's CosoNostra Pizza Inc., but in the Metaverse he's a warrior prince. Plunging headlong into the enigma of a new computer virus that's striking down hackers everywhere, he races along the neon-lit streets on a search-and-destroy mission for the shadowy virtual villain threatening to bring about infocalypse. , is a mind-altering romp through a future America so bizarre, so outrageous\\u2026 you'll recognize it immediately.\"],\n [{\n            'v': 3,\n            'f': \"3\",\n        },\n\"The Little Red Hen: (Makes a Pizza)\",\n\"Philemon Sturges\",\n\"A spirited, quirky, and thoroughly modern remake of the classic tale, \\\"The Little Red Hen.\\\" Full color.\"]],\n        columns: [[\"number\", \"index\"], [\"string\", \"titles\"], [\"string\", \"author\"], [\"string\", \"blurbs\"]],\n        columnOptions: [{\"width\": \"1px\", \"className\": \"index_column\"}],\n        rowsPerPage: 25,\n        helpUrl: \"https://colab.research.google.com/notebooks/data_table.ipynb\",\n        suppressOutputScrolling: true,\n        minimumWidth: undefined,\n      });\n    "
          },
          "metadata": {},
          "execution_count": 238
        }
      ]
    },
    {
      "cell_type": "code",
      "source": [
        "!pip install git+https://github.com/internetarchive/openlibrary-client.git"
      ],
      "metadata": {
        "colab": {
          "base_uri": "https://localhost:8080/",
          "height": 1000
        },
        "id": "Kpf9ppZXguKe",
        "outputId": "42e7792f-14f0-4ef0-e108-81a546f443cf"
      },
      "execution_count": 239,
      "outputs": [
        {
          "output_type": "stream",
          "name": "stdout",
          "text": [
            "Looking in indexes: https://pypi.org/simple, https://us-python.pkg.dev/colab-wheels/public/simple/\n",
            "Collecting git+https://github.com/internetarchive/openlibrary-client.git\n",
            "  Cloning https://github.com/internetarchive/openlibrary-client.git to /tmp/pip-req-build-qyaqzof3\n",
            "  Running command git clone -q https://github.com/internetarchive/openlibrary-client.git /tmp/pip-req-build-qyaqzof3\n",
            "Collecting backoff==2.2.1\n",
            "  Downloading backoff-2.2.1-py3-none-any.whl (15 kB)\n",
            "Collecting internetarchive==3.0.2\n",
            "  Downloading internetarchive-3.0.2.tar.gz (97 kB)\n",
            "\u001b[K     |████████████████████████████████| 97 kB 4.9 MB/s \n",
            "\u001b[?25hCollecting jsonpickle==2.2.0\n",
            "  Downloading jsonpickle-2.2.0-py2.py3-none-any.whl (39 kB)\n",
            "Collecting jsonschema==4.16.0\n",
            "  Downloading jsonschema-4.16.0-py3-none-any.whl (83 kB)\n",
            "\u001b[K     |████████████████████████████████| 83 kB 1.8 MB/s \n",
            "\u001b[?25hCollecting requests[security]==2.28.1\n",
            "  Downloading requests-2.28.1-py3-none-any.whl (62 kB)\n",
            "\u001b[K     |████████████████████████████████| 62 kB 1.2 MB/s \n",
            "\u001b[?25hCollecting simplejson==3.17.6\n",
            "  Downloading simplejson-3.17.6-cp37-cp37m-manylinux_2_5_x86_64.manylinux1_x86_64.manylinux_2_12_x86_64.manylinux2010_x86_64.whl (130 kB)\n",
            "\u001b[K     |████████████████████████████████| 130 kB 59.1 MB/s \n",
            "\u001b[?25hCollecting docopt<0.7.0,>=0.6.0\n",
            "  Downloading docopt-0.6.2.tar.gz (25 kB)\n",
            "Collecting jsonpatch>=0.4\n",
            "  Downloading jsonpatch-1.32-py2.py3-none-any.whl (12 kB)\n",
            "Collecting schema>=0.4.0\n",
            "  Downloading schema-0.7.5-py2.py3-none-any.whl (17 kB)\n",
            "Requirement already satisfied: tqdm>=4.0.0 in /usr/local/lib/python3.7/dist-packages (from internetarchive==3.0.2->openlibrary-client==0.0.31) (4.64.1)\n",
            "Collecting urllib3>=1.26.0\n",
            "  Downloading urllib3-1.26.13-py2.py3-none-any.whl (140 kB)\n",
            "\u001b[K     |████████████████████████████████| 140 kB 64.2 MB/s \n",
            "\u001b[?25hRequirement already satisfied: importlib-metadata in /usr/local/lib/python3.7/dist-packages (from jsonpickle==2.2.0->openlibrary-client==0.0.31) (4.13.0)\n",
            "Requirement already satisfied: importlib-resources>=1.4.0 in /usr/local/lib/python3.7/dist-packages (from jsonschema==4.16.0->openlibrary-client==0.0.31) (5.10.0)\n",
            "Collecting pkgutil-resolve-name>=1.3.10\n",
            "  Downloading pkgutil_resolve_name-1.3.10-py3-none-any.whl (4.7 kB)\n",
            "Requirement already satisfied: pyrsistent!=0.17.0,!=0.17.1,!=0.17.2,>=0.14.0 in /usr/local/lib/python3.7/dist-packages (from jsonschema==4.16.0->openlibrary-client==0.0.31) (0.19.2)\n",
            "Requirement already satisfied: attrs>=17.4.0 in /usr/local/lib/python3.7/dist-packages (from jsonschema==4.16.0->openlibrary-client==0.0.31) (22.1.0)\n",
            "Requirement already satisfied: typing-extensions in /usr/local/lib/python3.7/dist-packages (from jsonschema==4.16.0->openlibrary-client==0.0.31) (4.1.1)\n",
            "Requirement already satisfied: idna<4,>=2.5 in /usr/local/lib/python3.7/dist-packages (from requests[security]==2.28.1->openlibrary-client==0.0.31) (2.10)\n",
            "Requirement already satisfied: certifi>=2017.4.17 in /usr/local/lib/python3.7/dist-packages (from requests[security]==2.28.1->openlibrary-client==0.0.31) (2022.9.24)\n",
            "Requirement already satisfied: charset-normalizer<3,>=2 in /usr/local/lib/python3.7/dist-packages (from requests[security]==2.28.1->openlibrary-client==0.0.31) (2.1.1)\n",
            "Requirement already satisfied: zipp>=3.1.0 in /usr/local/lib/python3.7/dist-packages (from importlib-resources>=1.4.0->jsonschema==4.16.0->openlibrary-client==0.0.31) (3.10.0)\n",
            "Collecting jsonpointer>=1.9\n",
            "  Downloading jsonpointer-2.3-py2.py3-none-any.whl (7.8 kB)\n",
            "Requirement already satisfied: contextlib2>=0.5.5 in /usr/local/lib/python3.7/dist-packages (from schema>=0.4.0->internetarchive==3.0.2->openlibrary-client==0.0.31) (0.5.5)\n",
            "Building wheels for collected packages: openlibrary-client, internetarchive, docopt\n",
            "  Building wheel for openlibrary-client (setup.py) ... \u001b[?25l\u001b[?25hdone\n",
            "  Created wheel for openlibrary-client: filename=openlibrary_client-0.0.31-py2.py3-none-any.whl size=42747 sha256=9acb2af933f667aee78cca8d068ae536de179406b4c4a46b8e5543087df5c56a\n",
            "  Stored in directory: /tmp/pip-ephem-wheel-cache-tljya60z/wheels/c7/99/75/0a92b80fabe41a952d4153d05c840ffc6311835d48d5ee2132\n",
            "  Building wheel for internetarchive (setup.py) ... \u001b[?25l\u001b[?25hdone\n",
            "  Created wheel for internetarchive: filename=internetarchive-3.0.2-py3-none-any.whl size=93535 sha256=7af224f6ae67f9299a567821e7bccc3330a60a70ae6659598d9190a424226f2f\n",
            "  Stored in directory: /root/.cache/pip/wheels/03/ff/86/c3f49d3c99537eef9d54a747271d99e48b97fbf5c0acda97c3\n",
            "  Building wheel for docopt (setup.py) ... \u001b[?25l\u001b[?25hdone\n",
            "  Created wheel for docopt: filename=docopt-0.6.2-py2.py3-none-any.whl size=13723 sha256=ca39c622fce79ee09593dd996dfeff56d23894c8ebd1d5408bbc9d372e008229\n",
            "  Stored in directory: /root/.cache/pip/wheels/72/b0/3f/1d95f96ff986c7dfffe46ce2be4062f38ebd04b506c77c81b9\n",
            "Successfully built openlibrary-client internetarchive docopt\n",
            "Installing collected packages: urllib3, jsonpointer, schema, requests, pkgutil-resolve-name, jsonpatch, docopt, simplejson, jsonschema, jsonpickle, internetarchive, backoff, openlibrary-client\n",
            "  Attempting uninstall: urllib3\n",
            "    Found existing installation: urllib3 1.24.3\n",
            "    Uninstalling urllib3-1.24.3:\n",
            "      Successfully uninstalled urllib3-1.24.3\n",
            "  Attempting uninstall: requests\n",
            "    Found existing installation: requests 2.23.0\n",
            "    Uninstalling requests-2.23.0:\n",
            "      Successfully uninstalled requests-2.23.0\n",
            "  Attempting uninstall: jsonschema\n",
            "    Found existing installation: jsonschema 4.3.3\n",
            "    Uninstalling jsonschema-4.3.3:\n",
            "      Successfully uninstalled jsonschema-4.3.3\n",
            "Successfully installed backoff-2.2.1 docopt-0.6.2 internetarchive-3.0.2 jsonpatch-1.32 jsonpickle-2.2.0 jsonpointer-2.3 jsonschema-4.16.0 openlibrary-client-0.0.31 pkgutil-resolve-name-1.3.10 requests-2.28.1 schema-0.7.5 simplejson-3.17.6 urllib3-1.26.13\n"
          ]
        },
        {
          "output_type": "display_data",
          "data": {
            "application/vnd.colab-display-data+json": {
              "pip_warning": {
                "packages": [
                  "requests",
                  "urllib3"
                ]
              }
            }
          },
          "metadata": {}
        }
      ]
    },
    {
      "cell_type": "code",
      "source": [
        "from olclient.openlibrary import OpenLibrary\n",
        "ol = OpenLibrary()\n",
        "author_olid = ol.Author.get_olid_by_name('Dan Brown')\n",
        "author_obj = ol.get(author_olid)"
      ],
      "metadata": {
        "id": "jo8MLNR2g5pZ"
      },
      "execution_count": 240,
      "outputs": []
    },
    {
      "cell_type": "code",
      "source": [
        "from IPython.display import display, HTML"
      ],
      "metadata": {
        "id": "EilQjc_OiiXt"
      },
      "execution_count": 293,
      "outputs": []
    },
    {
      "cell_type": "code",
      "source": [
        "def most_similiar_book():\n",
        "  sentence = [input(\"Write a line from your favorite book? \")]\n",
        "  y = vectorizer.transform(sentence)\n",
        "  cosine_sim = cosine_similarity(X,y)\n",
        "  max_index = np.argmax(cosine_sim)\n",
        "  author_olid = ol.Author.get_olid_by_name(df['Author'].iloc[max_index])\n",
        "  if ol.get(author_olid) != None:\n",
        "    author_obj = ol.get(author_olid)\n",
        "  else:\n",
        "    print('Sorry author is not in our database')\n",
        "  if author_obj.bio != None:\n",
        "    author_desc = author_obj.bio.split('\\r\\n\\r\\n')[0]\n",
        "  else:\n",
        "    author_desc = f\"Sorry we dont have any information about {df['Author'].iloc[max_index]} at the moment\"\n",
        "  return print('\\n', 'Title:', '\\n', df['Title'].iloc[max_index], '\\n\\n', 'Description:', '\\n', df['Blurb'].iloc[max_index], '\\n\\n', 'About the Author:', '\\n', author_desc, \n",
        "               display(HTML('<img src=\"https://covers.openlibrary.org/b/isbn/' + df['ISBN'].iloc[max_index] + '-L.jpg\" />')))"
      ],
      "metadata": {
        "id": "IkNoiogZmKLx"
      },
      "execution_count": 314,
      "outputs": []
    },
    {
      "cell_type": "code",
      "source": [
        "most_similiar_book()"
      ],
      "metadata": {
        "colab": {
          "base_uri": "https://localhost:8080/",
          "height": 690
        },
        "id": "RM07JIzKp0fk",
        "outputId": "b063e687-c916-4cb1-c5ea-398875e34862"
      },
      "execution_count": 316,
      "outputs": [
        {
          "name": "stdout",
          "output_type": "stream",
          "text": [
            "Write a line from your favorite book? rats\n"
          ]
        },
        {
          "output_type": "display_data",
          "data": {
            "text/plain": [
              "<IPython.core.display.HTML object>"
            ],
            "text/html": [
              "<img src=\"https://covers.openlibrary.org/b/isbn/0786803398-L.jpg\" />"
            ]
          },
          "metadata": {}
        },
        {
          "output_type": "stream",
          "name": "stdout",
          "text": [
            "\n",
            " Title: \n",
            " Rats (Rats) \n",
            "\n",
            " Description: \n",
            " When a shortcut trail between Pam's backyard to Anna and Lulu's pony paddock is blocked by a neighbor's new sheep pen, the girls fear that Pam will be left out of future Pony Pal excursions. \n",
            "\n",
            " About the Author: \n",
            " Sorry we dont have any information about Paul Zindel at the moment None\n"
          ]
        }
      ]
    }
  ],
  "metadata": {
    "colab": {
      "provenance": [],
      "include_colab_link": true
    },
    "kernelspec": {
      "display_name": "Python 3.9.0 ('tf_2.7')",
      "language": "python",
      "name": "python3"
    },
    "language_info": {
      "codemirror_mode": {
        "name": "ipython",
        "version": 3
      },
      "file_extension": ".py",
      "mimetype": "text/x-python",
      "name": "python",
      "nbconvert_exporter": "python",
      "pygments_lexer": "ipython3",
      "version": "3.9.0"
    },
    "vscode": {
      "interpreter": {
        "hash": "44588579933afcba3dd84e72417e746017e151b615ee068807749488be21dd91"
      }
    }
  },
  "nbformat": 4,
  "nbformat_minor": 0
}