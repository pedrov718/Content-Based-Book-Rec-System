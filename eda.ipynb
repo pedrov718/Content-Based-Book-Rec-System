{
  "cells": [
    {
      "cell_type": "markdown",
      "metadata": {
        "id": "view-in-github",
        "colab_type": "text"
      },
      "source": [
        "<a href=\"https://colab.research.google.com/github/pedrov718/Content-Based-Book-Rec-System/blob/main/eda.ipynb\" target=\"_parent\"><img src=\"https://colab.research.google.com/assets/colab-badge.svg\" alt=\"Open In Colab\"/></a>"
      ]
    },
    {
      "cell_type": "code",
      "execution_count": 122,
      "metadata": {
        "colab": {
          "base_uri": "https://localhost:8080/"
        },
        "id": "ZlGgnvfj79R8",
        "outputId": "5b4b9223-926b-43b9-cea3-dda9b5c20600"
      },
      "outputs": [
        {
          "output_type": "stream",
          "name": "stderr",
          "text": [
            "[nltk_data] Downloading package stopwords to /root/nltk_data...\n",
            "[nltk_data]   Package stopwords is already up-to-date!\n",
            "[nltk_data] Downloading package wordnet to /root/nltk_data...\n",
            "[nltk_data]   Package wordnet is already up-to-date!\n",
            "[nltk_data] Downloading package omw-1.4 to /root/nltk_data...\n",
            "[nltk_data]   Package omw-1.4 is already up-to-date!\n"
          ]
        },
        {
          "output_type": "execute_result",
          "data": {
            "text/plain": [
              "True"
            ]
          },
          "metadata": {},
          "execution_count": 122
        }
      ],
      "source": [
        "import pandas as pd\n",
        "import spacy \n",
        "import re\n",
        "import string\n",
        "import nltk\n",
        "import numpy as np\n",
        "import pprint\n",
        "from nltk.stem import PorterStemmer\n",
        "from nltk.stem.wordnet import WordNetLemmatizer\n",
        "nltk.download('stopwords')\n",
        "nltk.download('wordnet')\n",
        "nltk.download('omw-1.4')"
      ]
    },
    {
      "cell_type": "code",
      "execution_count": 3,
      "metadata": {
        "id": "5ahHQOMF79R-"
      },
      "outputs": [],
      "source": [
        "df  = pd.read_csv('/content/books_with_blurbs.csv')"
      ]
    },
    {
      "cell_type": "code",
      "execution_count": 4,
      "metadata": {
        "colab": {
          "base_uri": "https://localhost:8080/",
          "height": 206
        },
        "id": "KDGvHv__79R-",
        "outputId": "74545512-e07f-4c8f-bcae-c17826df1866"
      },
      "outputs": [
        {
          "output_type": "execute_result",
          "data": {
            "text/plain": [
              "         ISBN                                              Title  \\\n",
              "0  0060973129                               Decision in Normandy   \n",
              "1  0374157065  Flu: The Story of the Great Influenza Pandemic...   \n",
              "2  0399135782                             The Kitchen God's Wife   \n",
              "3  0425176428  What If?: The World's Foremost Military Histor...   \n",
              "4  1881320189                      Goodbye to the Buttermilk Sky   \n",
              "\n",
              "             Author  Year                 Publisher  \\\n",
              "0      Carlo D'Este  1991           HarperPerennial   \n",
              "1  Gina Bari Kolata  1999      Farrar Straus Giroux   \n",
              "2           Amy Tan  1991          Putnam Pub Group   \n",
              "3     Robert Cowley  2000  Berkley Publishing Group   \n",
              "4      Julia Oliver  1994            River City Pub   \n",
              "\n",
              "                                               Blurb  \n",
              "0  Here, for the first time in paperback, is an o...  \n",
              "1  The fascinating, true story of the world's dea...  \n",
              "2  Winnie and Helen have kept each others worst s...  \n",
              "3  Historians and inquisitive laymen alike love t...  \n",
              "4  This highly praised first novel by fiction wri...  "
            ],
            "text/html": [
              "\n",
              "  <div id=\"df-9d0c88af-dea7-43d4-a3c3-e726214ad8ca\">\n",
              "    <div class=\"colab-df-container\">\n",
              "      <div>\n",
              "<style scoped>\n",
              "    .dataframe tbody tr th:only-of-type {\n",
              "        vertical-align: middle;\n",
              "    }\n",
              "\n",
              "    .dataframe tbody tr th {\n",
              "        vertical-align: top;\n",
              "    }\n",
              "\n",
              "    .dataframe thead th {\n",
              "        text-align: right;\n",
              "    }\n",
              "</style>\n",
              "<table border=\"1\" class=\"dataframe\">\n",
              "  <thead>\n",
              "    <tr style=\"text-align: right;\">\n",
              "      <th></th>\n",
              "      <th>ISBN</th>\n",
              "      <th>Title</th>\n",
              "      <th>Author</th>\n",
              "      <th>Year</th>\n",
              "      <th>Publisher</th>\n",
              "      <th>Blurb</th>\n",
              "    </tr>\n",
              "  </thead>\n",
              "  <tbody>\n",
              "    <tr>\n",
              "      <th>0</th>\n",
              "      <td>0060973129</td>\n",
              "      <td>Decision in Normandy</td>\n",
              "      <td>Carlo D'Este</td>\n",
              "      <td>1991</td>\n",
              "      <td>HarperPerennial</td>\n",
              "      <td>Here, for the first time in paperback, is an o...</td>\n",
              "    </tr>\n",
              "    <tr>\n",
              "      <th>1</th>\n",
              "      <td>0374157065</td>\n",
              "      <td>Flu: The Story of the Great Influenza Pandemic...</td>\n",
              "      <td>Gina Bari Kolata</td>\n",
              "      <td>1999</td>\n",
              "      <td>Farrar Straus Giroux</td>\n",
              "      <td>The fascinating, true story of the world's dea...</td>\n",
              "    </tr>\n",
              "    <tr>\n",
              "      <th>2</th>\n",
              "      <td>0399135782</td>\n",
              "      <td>The Kitchen God's Wife</td>\n",
              "      <td>Amy Tan</td>\n",
              "      <td>1991</td>\n",
              "      <td>Putnam Pub Group</td>\n",
              "      <td>Winnie and Helen have kept each others worst s...</td>\n",
              "    </tr>\n",
              "    <tr>\n",
              "      <th>3</th>\n",
              "      <td>0425176428</td>\n",
              "      <td>What If?: The World's Foremost Military Histor...</td>\n",
              "      <td>Robert Cowley</td>\n",
              "      <td>2000</td>\n",
              "      <td>Berkley Publishing Group</td>\n",
              "      <td>Historians and inquisitive laymen alike love t...</td>\n",
              "    </tr>\n",
              "    <tr>\n",
              "      <th>4</th>\n",
              "      <td>1881320189</td>\n",
              "      <td>Goodbye to the Buttermilk Sky</td>\n",
              "      <td>Julia Oliver</td>\n",
              "      <td>1994</td>\n",
              "      <td>River City Pub</td>\n",
              "      <td>This highly praised first novel by fiction wri...</td>\n",
              "    </tr>\n",
              "  </tbody>\n",
              "</table>\n",
              "</div>\n",
              "      <button class=\"colab-df-convert\" onclick=\"convertToInteractive('df-9d0c88af-dea7-43d4-a3c3-e726214ad8ca')\"\n",
              "              title=\"Convert this dataframe to an interactive table.\"\n",
              "              style=\"display:none;\">\n",
              "        \n",
              "  <svg xmlns=\"http://www.w3.org/2000/svg\" height=\"24px\"viewBox=\"0 0 24 24\"\n",
              "       width=\"24px\">\n",
              "    <path d=\"M0 0h24v24H0V0z\" fill=\"none\"/>\n",
              "    <path d=\"M18.56 5.44l.94 2.06.94-2.06 2.06-.94-2.06-.94-.94-2.06-.94 2.06-2.06.94zm-11 1L8.5 8.5l.94-2.06 2.06-.94-2.06-.94L8.5 2.5l-.94 2.06-2.06.94zm10 10l.94 2.06.94-2.06 2.06-.94-2.06-.94-.94-2.06-.94 2.06-2.06.94z\"/><path d=\"M17.41 7.96l-1.37-1.37c-.4-.4-.92-.59-1.43-.59-.52 0-1.04.2-1.43.59L10.3 9.45l-7.72 7.72c-.78.78-.78 2.05 0 2.83L4 21.41c.39.39.9.59 1.41.59.51 0 1.02-.2 1.41-.59l7.78-7.78 2.81-2.81c.8-.78.8-2.07 0-2.86zM5.41 20L4 18.59l7.72-7.72 1.47 1.35L5.41 20z\"/>\n",
              "  </svg>\n",
              "      </button>\n",
              "      \n",
              "  <style>\n",
              "    .colab-df-container {\n",
              "      display:flex;\n",
              "      flex-wrap:wrap;\n",
              "      gap: 12px;\n",
              "    }\n",
              "\n",
              "    .colab-df-convert {\n",
              "      background-color: #E8F0FE;\n",
              "      border: none;\n",
              "      border-radius: 50%;\n",
              "      cursor: pointer;\n",
              "      display: none;\n",
              "      fill: #1967D2;\n",
              "      height: 32px;\n",
              "      padding: 0 0 0 0;\n",
              "      width: 32px;\n",
              "    }\n",
              "\n",
              "    .colab-df-convert:hover {\n",
              "      background-color: #E2EBFA;\n",
              "      box-shadow: 0px 1px 2px rgba(60, 64, 67, 0.3), 0px 1px 3px 1px rgba(60, 64, 67, 0.15);\n",
              "      fill: #174EA6;\n",
              "    }\n",
              "\n",
              "    [theme=dark] .colab-df-convert {\n",
              "      background-color: #3B4455;\n",
              "      fill: #D2E3FC;\n",
              "    }\n",
              "\n",
              "    [theme=dark] .colab-df-convert:hover {\n",
              "      background-color: #434B5C;\n",
              "      box-shadow: 0px 1px 3px 1px rgba(0, 0, 0, 0.15);\n",
              "      filter: drop-shadow(0px 1px 2px rgba(0, 0, 0, 0.3));\n",
              "      fill: #FFFFFF;\n",
              "    }\n",
              "  </style>\n",
              "\n",
              "      <script>\n",
              "        const buttonEl =\n",
              "          document.querySelector('#df-9d0c88af-dea7-43d4-a3c3-e726214ad8ca button.colab-df-convert');\n",
              "        buttonEl.style.display =\n",
              "          google.colab.kernel.accessAllowed ? 'block' : 'none';\n",
              "\n",
              "        async function convertToInteractive(key) {\n",
              "          const element = document.querySelector('#df-9d0c88af-dea7-43d4-a3c3-e726214ad8ca');\n",
              "          const dataTable =\n",
              "            await google.colab.kernel.invokeFunction('convertToInteractive',\n",
              "                                                     [key], {});\n",
              "          if (!dataTable) return;\n",
              "\n",
              "          const docLinkHtml = 'Like what you see? Visit the ' +\n",
              "            '<a target=\"_blank\" href=https://colab.research.google.com/notebooks/data_table.ipynb>data table notebook</a>'\n",
              "            + ' to learn more about interactive tables.';\n",
              "          element.innerHTML = '';\n",
              "          dataTable['output_type'] = 'display_data';\n",
              "          await google.colab.output.renderOutput(dataTable, element);\n",
              "          const docLink = document.createElement('div');\n",
              "          docLink.innerHTML = docLinkHtml;\n",
              "          element.appendChild(docLink);\n",
              "        }\n",
              "      </script>\n",
              "    </div>\n",
              "  </div>\n",
              "  "
            ]
          },
          "metadata": {},
          "execution_count": 4
        }
      ],
      "source": [
        "df.head()"
      ]
    },
    {
      "cell_type": "code",
      "execution_count": 5,
      "metadata": {
        "colab": {
          "base_uri": "https://localhost:8080/"
        },
        "id": "KLUla0u079R-",
        "outputId": "eb3df9c2-519f-419f-f301-69241f4fbb97"
      },
      "outputs": [
        {
          "output_type": "execute_result",
          "data": {
            "text/plain": [
              "10    Newly graduated from college, Sam Altman is gr...\n",
              "11    Three passengers are dead. Fifty-six are injur...\n",
              "12    In an Arizona desert, a man wanders in a daze,...\n",
              "13    Dr. Ransom is abducted by a megalomaniacal phy...\n",
              "14    A novel of startling scope and ambition, , dep...\n",
              "Name: Blurb, dtype: object"
            ]
          },
          "metadata": {},
          "execution_count": 5
        }
      ],
      "source": [
        "df['Blurb'][10:15]"
      ]
    },
    {
      "cell_type": "code",
      "execution_count": 129,
      "metadata": {
        "id": "L8O4DSRj79R-"
      },
      "outputs": [],
      "source": [
        "# Load spacy\n",
        "nlp = spacy.load('en_core_web_sm')\n",
        "\n",
        "def clean_string(text, stem=\"None\"):\n",
        "\n",
        "    final_string = \"\"\n",
        "\n",
        "    # Make lower\n",
        "    text = text\n",
        "\n",
        "    # Remove line breaks\n",
        "    text = re.sub(r'\\n', '', text)\n",
        "\n",
        "    # Remove puncuation\n",
        "    translator = str.maketrans('', '', string.punctuation)\n",
        "    text = text.translate(translator)\n",
        "\n",
        "    #Remove stop words\n",
        "    text = text.split()\n",
        "    # useless_words = nltk.corpus.stopwords.words(\"english\")\n",
        "    # useless_words = useless_words + ['hi', 'im']\n",
        "\n",
        "    text_filtered = [word for word in text]\n",
        "\n",
        "    #Remove numbers\n",
        "    text_filtered = [re.sub(r'\\w*\\d\\w*', '', w) for w in text_filtered]\n",
        "\n",
        "    # Stem or Lemmatize\n",
        "    if stem == 'Stem':\n",
        "        stemmer = PorterStemmer() \n",
        "        text_stemmed = [stemmer.stem(y) for y in text_filtered]\n",
        "    elif stem == 'Lem':\n",
        "        lem = WordNetLemmatizer()\n",
        "        text_stemmed = [lem.lemmatize(y) for y in text_filtered]\n",
        "    elif stem == 'Spacy':\n",
        "        text_filtered = nlp(' '.join(text_filtered))\n",
        "        text_stemmed = [y.lemma_ for y in text_filtered]\n",
        "    else:\n",
        "        text_stemmed = text_filtered\n",
        "\n",
        "    final_string = ' '.join(text_stemmed)\n",
        "\n",
        "    return final_string\n"
      ]
    },
    {
      "cell_type": "code",
      "execution_count": 130,
      "metadata": {
        "colab": {
          "base_uri": "https://localhost:8080/"
        },
        "id": "QQdeiD6j79R_",
        "outputId": "d6dd258a-1322-409c-8072-f58dad8d4c27"
      },
      "outputs": [
        {
          "output_type": "stream",
          "name": "stdout",
          "text": [
            "Cleaning train data...\n",
            "\n"
          ]
        }
      ],
      "source": [
        "print(\"Cleaning train data...\\n\")\n",
        "\n",
        "df[\"blurb_clean\"] = df['Blurb'].apply(lambda x: clean_string(x, stem='Lem'))"
      ]
    },
    {
      "cell_type": "code",
      "execution_count": 131,
      "metadata": {
        "colab": {
          "base_uri": "https://localhost:8080/",
          "height": 337
        },
        "id": "85K4qCwD79R_",
        "outputId": "203dd0d5-031f-49cd-9a54-64255c9276c4"
      },
      "outputs": [
        {
          "output_type": "execute_result",
          "data": {
            "text/plain": [
              "         ISBN                                              Title  \\\n",
              "0  0060973129                               Decision in Normandy   \n",
              "1  0374157065  Flu: The Story of the Great Influenza Pandemic...   \n",
              "2  0399135782                             The Kitchen God's Wife   \n",
              "3  0425176428  What If?: The World's Foremost Military Histor...   \n",
              "4  1881320189                      Goodbye to the Buttermilk Sky   \n",
              "\n",
              "             Author  Year                 Publisher  \\\n",
              "0      Carlo D'Este  1991           HarperPerennial   \n",
              "1  Gina Bari Kolata  1999      Farrar Straus Giroux   \n",
              "2           Amy Tan  1991          Putnam Pub Group   \n",
              "3     Robert Cowley  2000  Berkley Publishing Group   \n",
              "4      Julia Oliver  1994            River City Pub   \n",
              "\n",
              "                                               Blurb  \\\n",
              "0  Here, for the first time in paperback, is an o...   \n",
              "1  The fascinating, true story of the world's dea...   \n",
              "2  Winnie and Helen have kept each others worst s...   \n",
              "3  Historians and inquisitive laymen alike love t...   \n",
              "4  This highly praised first novel by fiction wri...   \n",
              "\n",
              "                                         blurb_clean  \\\n",
              "0  Here for the first time in paperback is an out...   \n",
              "1  The fascinating true story of the world deadli...   \n",
              "2  Winnie and Helen have kept each others worst s...   \n",
              "3  Historians and inquisitive layman alike love t...   \n",
              "4  This highly praised first novel by fiction wri...   \n",
              "\n",
              "                                         Title_lower  \\\n",
              "0                               decision in normandy   \n",
              "1  flu: the story of the great influenza pandemic...   \n",
              "2                             the kitchen god's wife   \n",
              "3  what if?: the world's foremost military histor...   \n",
              "4                      goodbye to the buttermilk sky   \n",
              "\n",
              "                                   blurb_clean_title  \n",
              "0  decision in normandy here for the first time i...  \n",
              "1  flu: the story of the great influenza pandemic...  \n",
              "2  the kitchen god's wife winnie and helen have k...  \n",
              "3  what if?: the world's foremost military histor...  \n",
              "4  goodbye to the buttermilk sky this highly prai...  "
            ],
            "text/html": [
              "\n",
              "  <div id=\"df-d85cde4c-25a3-4db1-ac82-38d18d4492ab\">\n",
              "    <div class=\"colab-df-container\">\n",
              "      <div>\n",
              "<style scoped>\n",
              "    .dataframe tbody tr th:only-of-type {\n",
              "        vertical-align: middle;\n",
              "    }\n",
              "\n",
              "    .dataframe tbody tr th {\n",
              "        vertical-align: top;\n",
              "    }\n",
              "\n",
              "    .dataframe thead th {\n",
              "        text-align: right;\n",
              "    }\n",
              "</style>\n",
              "<table border=\"1\" class=\"dataframe\">\n",
              "  <thead>\n",
              "    <tr style=\"text-align: right;\">\n",
              "      <th></th>\n",
              "      <th>ISBN</th>\n",
              "      <th>Title</th>\n",
              "      <th>Author</th>\n",
              "      <th>Year</th>\n",
              "      <th>Publisher</th>\n",
              "      <th>Blurb</th>\n",
              "      <th>blurb_clean</th>\n",
              "      <th>Title_lower</th>\n",
              "      <th>blurb_clean_title</th>\n",
              "    </tr>\n",
              "  </thead>\n",
              "  <tbody>\n",
              "    <tr>\n",
              "      <th>0</th>\n",
              "      <td>0060973129</td>\n",
              "      <td>Decision in Normandy</td>\n",
              "      <td>Carlo D'Este</td>\n",
              "      <td>1991</td>\n",
              "      <td>HarperPerennial</td>\n",
              "      <td>Here, for the first time in paperback, is an o...</td>\n",
              "      <td>Here for the first time in paperback is an out...</td>\n",
              "      <td>decision in normandy</td>\n",
              "      <td>decision in normandy here for the first time i...</td>\n",
              "    </tr>\n",
              "    <tr>\n",
              "      <th>1</th>\n",
              "      <td>0374157065</td>\n",
              "      <td>Flu: The Story of the Great Influenza Pandemic...</td>\n",
              "      <td>Gina Bari Kolata</td>\n",
              "      <td>1999</td>\n",
              "      <td>Farrar Straus Giroux</td>\n",
              "      <td>The fascinating, true story of the world's dea...</td>\n",
              "      <td>The fascinating true story of the world deadli...</td>\n",
              "      <td>flu: the story of the great influenza pandemic...</td>\n",
              "      <td>flu: the story of the great influenza pandemic...</td>\n",
              "    </tr>\n",
              "    <tr>\n",
              "      <th>2</th>\n",
              "      <td>0399135782</td>\n",
              "      <td>The Kitchen God's Wife</td>\n",
              "      <td>Amy Tan</td>\n",
              "      <td>1991</td>\n",
              "      <td>Putnam Pub Group</td>\n",
              "      <td>Winnie and Helen have kept each others worst s...</td>\n",
              "      <td>Winnie and Helen have kept each others worst s...</td>\n",
              "      <td>the kitchen god's wife</td>\n",
              "      <td>the kitchen god's wife winnie and helen have k...</td>\n",
              "    </tr>\n",
              "    <tr>\n",
              "      <th>3</th>\n",
              "      <td>0425176428</td>\n",
              "      <td>What If?: The World's Foremost Military Histor...</td>\n",
              "      <td>Robert Cowley</td>\n",
              "      <td>2000</td>\n",
              "      <td>Berkley Publishing Group</td>\n",
              "      <td>Historians and inquisitive laymen alike love t...</td>\n",
              "      <td>Historians and inquisitive layman alike love t...</td>\n",
              "      <td>what if?: the world's foremost military histor...</td>\n",
              "      <td>what if?: the world's foremost military histor...</td>\n",
              "    </tr>\n",
              "    <tr>\n",
              "      <th>4</th>\n",
              "      <td>1881320189</td>\n",
              "      <td>Goodbye to the Buttermilk Sky</td>\n",
              "      <td>Julia Oliver</td>\n",
              "      <td>1994</td>\n",
              "      <td>River City Pub</td>\n",
              "      <td>This highly praised first novel by fiction wri...</td>\n",
              "      <td>This highly praised first novel by fiction wri...</td>\n",
              "      <td>goodbye to the buttermilk sky</td>\n",
              "      <td>goodbye to the buttermilk sky this highly prai...</td>\n",
              "    </tr>\n",
              "  </tbody>\n",
              "</table>\n",
              "</div>\n",
              "      <button class=\"colab-df-convert\" onclick=\"convertToInteractive('df-d85cde4c-25a3-4db1-ac82-38d18d4492ab')\"\n",
              "              title=\"Convert this dataframe to an interactive table.\"\n",
              "              style=\"display:none;\">\n",
              "        \n",
              "  <svg xmlns=\"http://www.w3.org/2000/svg\" height=\"24px\"viewBox=\"0 0 24 24\"\n",
              "       width=\"24px\">\n",
              "    <path d=\"M0 0h24v24H0V0z\" fill=\"none\"/>\n",
              "    <path d=\"M18.56 5.44l.94 2.06.94-2.06 2.06-.94-2.06-.94-.94-2.06-.94 2.06-2.06.94zm-11 1L8.5 8.5l.94-2.06 2.06-.94-2.06-.94L8.5 2.5l-.94 2.06-2.06.94zm10 10l.94 2.06.94-2.06 2.06-.94-2.06-.94-.94-2.06-.94 2.06-2.06.94z\"/><path d=\"M17.41 7.96l-1.37-1.37c-.4-.4-.92-.59-1.43-.59-.52 0-1.04.2-1.43.59L10.3 9.45l-7.72 7.72c-.78.78-.78 2.05 0 2.83L4 21.41c.39.39.9.59 1.41.59.51 0 1.02-.2 1.41-.59l7.78-7.78 2.81-2.81c.8-.78.8-2.07 0-2.86zM5.41 20L4 18.59l7.72-7.72 1.47 1.35L5.41 20z\"/>\n",
              "  </svg>\n",
              "      </button>\n",
              "      \n",
              "  <style>\n",
              "    .colab-df-container {\n",
              "      display:flex;\n",
              "      flex-wrap:wrap;\n",
              "      gap: 12px;\n",
              "    }\n",
              "\n",
              "    .colab-df-convert {\n",
              "      background-color: #E8F0FE;\n",
              "      border: none;\n",
              "      border-radius: 50%;\n",
              "      cursor: pointer;\n",
              "      display: none;\n",
              "      fill: #1967D2;\n",
              "      height: 32px;\n",
              "      padding: 0 0 0 0;\n",
              "      width: 32px;\n",
              "    }\n",
              "\n",
              "    .colab-df-convert:hover {\n",
              "      background-color: #E2EBFA;\n",
              "      box-shadow: 0px 1px 2px rgba(60, 64, 67, 0.3), 0px 1px 3px 1px rgba(60, 64, 67, 0.15);\n",
              "      fill: #174EA6;\n",
              "    }\n",
              "\n",
              "    [theme=dark] .colab-df-convert {\n",
              "      background-color: #3B4455;\n",
              "      fill: #D2E3FC;\n",
              "    }\n",
              "\n",
              "    [theme=dark] .colab-df-convert:hover {\n",
              "      background-color: #434B5C;\n",
              "      box-shadow: 0px 1px 3px 1px rgba(0, 0, 0, 0.15);\n",
              "      filter: drop-shadow(0px 1px 2px rgba(0, 0, 0, 0.3));\n",
              "      fill: #FFFFFF;\n",
              "    }\n",
              "  </style>\n",
              "\n",
              "      <script>\n",
              "        const buttonEl =\n",
              "          document.querySelector('#df-d85cde4c-25a3-4db1-ac82-38d18d4492ab button.colab-df-convert');\n",
              "        buttonEl.style.display =\n",
              "          google.colab.kernel.accessAllowed ? 'block' : 'none';\n",
              "\n",
              "        async function convertToInteractive(key) {\n",
              "          const element = document.querySelector('#df-d85cde4c-25a3-4db1-ac82-38d18d4492ab');\n",
              "          const dataTable =\n",
              "            await google.colab.kernel.invokeFunction('convertToInteractive',\n",
              "                                                     [key], {});\n",
              "          if (!dataTable) return;\n",
              "\n",
              "          const docLinkHtml = 'Like what you see? Visit the ' +\n",
              "            '<a target=\"_blank\" href=https://colab.research.google.com/notebooks/data_table.ipynb>data table notebook</a>'\n",
              "            + ' to learn more about interactive tables.';\n",
              "          element.innerHTML = '';\n",
              "          dataTable['output_type'] = 'display_data';\n",
              "          await google.colab.output.renderOutput(dataTable, element);\n",
              "          const docLink = document.createElement('div');\n",
              "          docLink.innerHTML = docLinkHtml;\n",
              "          element.appendChild(docLink);\n",
              "        }\n",
              "      </script>\n",
              "    </div>\n",
              "  </div>\n",
              "  "
            ]
          },
          "metadata": {},
          "execution_count": 131
        }
      ],
      "source": [
        "df.head()"
      ]
    },
    {
      "cell_type": "code",
      "execution_count": 132,
      "metadata": {
        "id": "-bh3dupB79R_"
      },
      "outputs": [],
      "source": [
        "df['Title_lower'] = df['Title'].apply(lambda x: x.lower())"
      ]
    },
    {
      "cell_type": "code",
      "execution_count": 133,
      "metadata": {
        "id": "IEbwj1nx79SA"
      },
      "outputs": [],
      "source": [
        "df['blurb_clean_title'] =  df['Title_lower'] +  ' ' + df['blurb_clean']"
      ]
    },
    {
      "cell_type": "code",
      "execution_count": 134,
      "metadata": {
        "colab": {
          "base_uri": "https://localhost:8080/",
          "height": 53
        },
        "id": "7RbrbPNn79SA",
        "outputId": "04330e0d-8981-4646-acc2-8f88d4a69e61"
      },
      "outputs": [
        {
          "output_type": "execute_result",
          "data": {
            "text/plain": [
              "'wild animus Newly graduated from college Sam Altman is gripped by an inexplicable urge to lose himself in the wilderness and team up with an enigmatic young woman who seems bent on helping him realize his dream'"
            ],
            "application/vnd.google.colaboratory.intrinsic+json": {
              "type": "string"
            }
          },
          "metadata": {},
          "execution_count": 134
        }
      ],
      "source": [
        "df['blurb_clean_title'][10]"
      ]
    },
    {
      "cell_type": "code",
      "execution_count": 135,
      "metadata": {
        "id": "Kxfk7UzP79SA"
      },
      "outputs": [],
      "source": [
        "from sklearn.feature_extraction.text import TfidfVectorizer\n",
        "from sklearn.metrics.pairwise import cosine_similarity\n",
        "from sklearn.feature_extraction.text import CountVectorizer"
      ]
    },
    {
      "cell_type": "code",
      "execution_count": 136,
      "metadata": {
        "id": "ApMQiprV79SA"
      },
      "outputs": [],
      "source": [
        "vectorizer = TfidfVectorizer()\n",
        "X = vectorizer.fit_transform(df['blurb_clean_title'])"
      ]
    },
    {
      "cell_type": "code",
      "source": [
        "sentence = 'it was the best of times it was the worst time'\n",
        "clean_string(sentence)"
      ],
      "metadata": {
        "colab": {
          "base_uri": "https://localhost:8080/",
          "height": 36
        },
        "id": "9FxCRmV0Q-ja",
        "outputId": "6aeb4717-10d2-4ca9-eb98-44c63a16efb3"
      },
      "execution_count": 137,
      "outputs": [
        {
          "output_type": "execute_result",
          "data": {
            "text/plain": [
              "'it was the best of times it was the worst time'"
            ],
            "application/vnd.google.colaboratory.intrinsic+json": {
              "type": "string"
            }
          },
          "metadata": {},
          "execution_count": 137
        }
      ]
    },
    {
      "cell_type": "code",
      "execution_count": 138,
      "metadata": {
        "id": "Q_LvF_jz79SB"
      },
      "outputs": [],
      "source": [
        "def calculate_cosine_sim():\n",
        "  sentence = [input(\"Write a line from your favorite book? \")]\n",
        "  y = vectorizer.transform(sentence)\n",
        "  cosine_sim = cosine_similarity(X,y)\n",
        "  max_index = np.argmax(cosine_sim)\n",
        "  return print('\\n', df['Title'].iloc[max_index], '\\n', df['Blurb'].iloc[max_index])"
      ]
    },
    {
      "cell_type": "code",
      "source": [
        "calculate_cosine_sim()"
      ],
      "metadata": {
        "colab": {
          "base_uri": "https://localhost:8080/"
        },
        "id": "xfrQy7BgOcpb",
        "outputId": "62806e07-a15b-4b95-c5a5-6c3fd0df8bae"
      },
      "execution_count": 139,
      "outputs": [
        {
          "output_type": "stream",
          "name": "stdout",
          "text": [
            "Write a line from your favorite book? pizza is my favorite color\n",
            "\n",
            " The Pizza Book: Everything There Is To Know About the World's Greatest Pie \n",
            " This young chef makes pizza making easy and fun. More than 200 easy-to-follow recipes. Supplementing the recipes is advice about ingredients, equipment and technique.\n"
          ]
        }
      ]
    }
  ],
  "metadata": {
    "colab": {
      "provenance": [],
      "include_colab_link": true
    },
    "kernelspec": {
      "display_name": "Python 3.9.0 ('tf_2.7')",
      "language": "python",
      "name": "python3"
    },
    "language_info": {
      "codemirror_mode": {
        "name": "ipython",
        "version": 3
      },
      "file_extension": ".py",
      "mimetype": "text/x-python",
      "name": "python",
      "nbconvert_exporter": "python",
      "pygments_lexer": "ipython3",
      "version": "3.9.0"
    },
    "vscode": {
      "interpreter": {
        "hash": "44588579933afcba3dd84e72417e746017e151b615ee068807749488be21dd91"
      }
    }
  },
  "nbformat": 4,
  "nbformat_minor": 0
}